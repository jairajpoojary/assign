{
  "cells": [
    {
      "cell_type": "code",
      "execution_count": 4,
      "metadata": {
        "colab": {
          "base_uri": "https://localhost:8080/",
          "height": 123
        },
        "id": "XU-i8FPTUaNL",
        "outputId": "a94264d7-0b1e-4865-b847-1f77a07d059f"
      },
      "outputs": [
        {
          "data": {
            "application/vnd.google.colaboratory.intrinsic+json": {
              "type": "string"
            },
            "text/plain": [
              "'\\n1. What is a Python library? Why do we use Python libraries?\\n\\nA Python library is a reusable chunk of code that you may want to include in your programs/ projects. Technically, it is a collection of modules,\\n which are Python files with a .py extension, that consist of functions, classes, and variables. A library can also include runnable code.\\n\\nPython libraries are used for several reasons:\\n\\nCode Reusability: We use libraries so that we don’t have to write the code from scratch every time. If the task is common and generic, like reading a CSV file, we can use the code that’s already written and tested in the form of a library.\\nEfficiency: Libraries often have more efficient implementations for complex algorithms and tasks. They are usually optimized for performance, so using a library function can make your code run faster.\\nCommunity Support: Python libraries are often open-source and have a community of developers maintaining and improving them. This means they are more reliable and up-to-date.\\nSimplifying Complex Tasks: Libraries can abstract away difficult tasks or complex implementations. For example, sending an HTTP request is a single function call in the requests library.\\nSome of the popular Python libraries include numpy for numerical computations, pandas for data manipulation, matplotlib for plotting, scikit-learn for machine learning, and many more.\\n'"
            ]
          },
          "execution_count": 4,
          "metadata": {},
          "output_type": "execute_result"
        }
      ],
      "source": [
        "'''\n",
        "1. What is a Python library? Why do we use Python libraries?\n",
        "\n",
        "A Python library is a reusable chunk of code that you may want to include in your programs/ projects. Technically, it is a collection of modules,\n",
        " which are Python files with a .py extension, that consist of functions, classes, and variables. A library can also include runnable code.\n",
        "\n",
        "Python libraries are used for several reasons:\n",
        "\n",
        "Code Reusability: We use libraries so that we don’t have to write the code from scratch every time. If the task is common and generic, like reading a CSV file, we can use the code that’s already written and tested in the form of a library.\n",
        "Efficiency: Libraries often have more efficient implementations for complex algorithms and tasks. They are usually optimized for performance, so using a library function can make your code run faster.\n",
        "Community Support: Python libraries are often open-source and have a community of developers maintaining and improving them. This means they are more reliable and up-to-date.\n",
        "Simplifying Complex Tasks: Libraries can abstract away difficult tasks or complex implementations. For example, sending an HTTP request is a single function call in the requests library.\n",
        "Some of the popular Python libraries include numpy for numerical computations, pandas for data manipulation, matplotlib for plotting, scikit-learn for machine learning, and many more.\n",
        "'''"
      ]
    },
    {
      "cell_type": "code",
      "execution_count": 5,
      "metadata": {
        "colab": {
          "base_uri": "https://localhost:8080/",
          "height": 122
        },
        "id": "eR4mQCq5cDnF",
        "outputId": "faffb8f1-06ff-4204-80ca-86e77b33bbf3"
      },
      "outputs": [
        {
          "data": {
            "application/vnd.google.colaboratory.intrinsic+json": {
              "type": "string"
            },
            "text/plain": [
              "'\\nA NumPy array and a Python list are both used for storing data, but they have some key differences:\\n\\nData Homogeneity: NumPy arrays are homogeneous and store data of the same type12. Python lists, on the other hand, are heterogeneous and can store data of different types12.\\nMemory Usage: NumPy arrays are more memory-efficient as they directly store the data, while Python lists store references to the data2. This makes NumPy arrays faster for numerical computations12.\\nSize Mutability: You can append elements to a Python list, but you can’t change the size of a NumPy array without making a full copy34.\\nOperations: Element-wise operations are possible with NumPy arrays but not with Python lists1. Also, NumPy arrays have many built-in functions for scientific computing1.\\nDimensionality: Python lists are by default 1-dimensional, but you can create an N-Dimensional list. NumPy arrays can be multi-dimensional1.\\n'"
            ]
          },
          "execution_count": 5,
          "metadata": {},
          "output_type": "execute_result"
        }
      ],
      "source": [
        "#2. What is the ^ifference between Numpy array an^ List?\n",
        "'''\n",
        "A NumPy array and a Python list are both used for storing data, but they have some key differences:\n",
        "\n",
        "Data Homogeneity: NumPy arrays are homogeneous and store data of the same type12. Python lists, on the other hand, are heterogeneous and can store data of different types12.\n",
        "Memory Usage: NumPy arrays are more memory-efficient as they directly store the data, while Python lists store references to the data2. This makes NumPy arrays faster for numerical computations12.\n",
        "Size Mutability: You can append elements to a Python list, but you can’t change the size of a NumPy array without making a full copy34.\n",
        "Operations: Element-wise operations are possible with NumPy arrays but not with Python lists1. Also, NumPy arrays have many built-in functions for scientific computing1.\n",
        "Dimensionality: Python lists are by default 1-dimensional, but you can create an N-Dimensional list. NumPy arrays can be multi-dimensional1.\n",
        "'''"
      ]
    },
    {
      "cell_type": "code",
      "execution_count": null,
      "metadata": {
        "id": "ul3CuV_udQwE"
      },
      "outputs": [],
      "source": [
        "'''\n",
        "#3. Fin^ the shape, size an^ ^imension of the following array?\n",
        "[[1, 2, 3, 4]\n",
        "[5, 6, 7, 8],\n",
        "[9, 10, 11, 12]]\n",
        "'''\n",
        "\n",
        "Shape: (3, 4)\n",
        "Size: 12\n",
        "Dimension: 2\n",
        "'''"
      ]
    },
    {
      "cell_type": "code",
      "execution_count": 7,
      "metadata": {
        "colab": {
          "base_uri": "https://localhost:8080/"
        },
        "id": "3cjcWCySdyGa",
        "outputId": "92fbb3fe-86b6-437b-b78d-06a8d07f6175"
      },
      "outputs": [
        {
          "name": "stdout",
          "output_type": "stream",
          "text": [
            "[1, 2, 3, 4]\n"
          ]
        }
      ],
      "source": [
        "'''\n",
        "#4. Write python co^e to access the first row of the following array?\n",
        "[[1, 2, 3, 4]\n",
        "[5, 6, 7, 8],\n",
        "[9, 10, 11, 12]]\n",
        "'''\n",
        "# First, let's define the array\n",
        "array = [[1, 2, 3, 4],\n",
        "         [5, 6, 7, 8],\n",
        "         [9, 10, 11, 12]]\n",
        "\n",
        "# Access the first row\n",
        "first_row = array[0]\n",
        "\n",
        "print(first_row)\n"
      ]
    },
    {
      "cell_type": "code",
      "execution_count": 8,
      "metadata": {
        "colab": {
          "base_uri": "https://localhost:8080/"
        },
        "id": "Ct1Zk33PhYYM",
        "outputId": "c3ef6654-24e5-491d-ed79-ef4bf2a98f94"
      },
      "outputs": [
        {
          "name": "stdout",
          "output_type": "stream",
          "text": [
            "12\n"
          ]
        }
      ],
      "source": [
        "'''\n",
        "#5. How ^o you access the element at the thir^ row and fourth column from the given numpy array?\n",
        "[[1, 2, 3, 4]\n",
        "[5, 6, 7, 8],\n",
        "[9, 10, 11, 12]]\n",
        "'''\n",
        "import numpy as np\n",
        "\n",
        "# Define the array\n",
        "array = np.array([[1, 2, 3, 4],\n",
        "                  [5, 6, 7, 8],\n",
        "                  [9, 10, 11, 12]])\n",
        "\n",
        "# Access the element at the third row and fourth column\n",
        "element = array[2, 3]\n",
        "\n",
        "print(element)\n"
      ]
    },
    {
      "cell_type": "code",
      "execution_count": 9,
      "metadata": {
        "colab": {
          "base_uri": "https://localhost:8080/"
        },
        "id": "LAZjypjGh38V",
        "outputId": "b8dcdb2a-72fd-417e-ddcc-afe657f317f2"
      },
      "outputs": [
        {
          "name": "stdout",
          "output_type": "stream",
          "text": [
            "[[0.53529205 0.32969975 0.0343304 ]\n",
            " [0.58896495 0.14588118 0.55508061]\n",
            " [0.38406914 0.87576908 0.5074963 ]]\n"
          ]
        }
      ],
      "source": [
        "#6 How can you generate a random 3x3 matrix with values between 0 and 1?\n",
        "import numpy as np\n",
        "\n",
        "# Generate a 3x3 matrix with random values between 0 and 1\n",
        "matrix = np.random.rand(3, 3)\n",
        "\n",
        "print(matrix)\n"
      ]
    },
    {
      "cell_type": "code",
      "execution_count": 10,
      "metadata": {
        "colab": {
          "base_uri": "https://localhost:8080/",
          "height": 122
        },
        "id": "QVovV6mBiMp8",
        "outputId": "bda6d190-faa5-4500-9c0a-1c9f2568029c"
      },
      "outputs": [
        {
          "data": {
            "application/vnd.google.colaboratory.intrinsic+json": {
              "type": "string"
            },
            "text/plain": [
              "'\\nThe main difference between np.random.rand and np.random.randn lies in the probabilistic distribution each number is drawn from12:\\n\\nnp.random.rand generates random values from a uniform distribution over the interval [0, 1)12. In a uniform distribution, all values within the given interval are equally likely to be drawn2.\\nnp.random.randn generates samples from the standard normal (Gaussian) distribution12. In a standard normal distribution, values are more likely to be closer to the mean (which is 0 in this case), and the spread of values is determined by the standard deviation (which is 1 in this case)2.\\nThese different distributions can have significant effects on the behavior of algorithms, particularly in fields like machine learning1. For example, initializing weights in a neural network with values from a standard normal distribution (using np.random.randn) often leads to better results than using a uniform distribution (using np.random.rand\\n'"
            ]
          },
          "execution_count": 10,
          "metadata": {},
          "output_type": "execute_result"
        }
      ],
      "source": [
        "#8. Describe the difference between np.random.rand and np.random.randn?\n",
        "'''\n",
        "The main difference between np.random.rand and np.random.randn lies in the probabilistic distribution each number is drawn from12:\n",
        "\n",
        "np.random.rand generates random values from a uniform distribution over the interval [0, 1)12. In a uniform distribution, all values within the given interval are equally likely to be drawn2.\n",
        "np.random.randn generates samples from the standard normal (Gaussian) distribution12. In a standard normal distribution, values are more likely to be closer to the mean (which is 0 in this case), and the spread of values is determined by the standard deviation (which is 1 in this case)2.\n",
        "These different distributions can have significant effects on the behavior of algorithms, particularly in fields like machine learning1. For example, initializing weights in a neural network with values from a standard normal distribution (using np.random.randn) often leads to better results than using a uniform distribution (using np.random.rand\n",
        "'''"
      ]
    },
    {
      "cell_type": "code",
      "execution_count": 11,
      "metadata": {
        "colab": {
          "base_uri": "https://localhost:8080/"
        },
        "id": "I1ePjswqi71G",
        "outputId": "bfbb79a8-97ca-42e9-a624-7823eaeef528"
      },
      "outputs": [
        {
          "name": "stdout",
          "output_type": "stream",
          "text": [
            "(1, 3, 4)\n"
          ]
        }
      ],
      "source": [
        "'''\n",
        "9. Write co^e to increase the ^imension of the following array?\n",
        "[[1, 2, 3, 4]\n",
        "[5, 6, 7, 8],\n",
        "[9, 10, 11, 12]]\n",
        "'''\n",
        "import numpy as np\n",
        "\n",
        "# Define the array\n",
        "array = np.array([[1, 2, 3, 4],\n",
        "                  [5, 6, 7, 8],\n",
        "                  [9, 10, 11, 12]])\n",
        "\n",
        "# Increase the dimension of the array\n",
        "array_new = array[np.newaxis, :]\n",
        "\n",
        "print(array_new.shape)\n"
      ]
    },
    {
      "cell_type": "code",
      "execution_count": 12,
      "metadata": {
        "colab": {
          "base_uri": "https://localhost:8080/"
        },
        "id": "mWPIxGa7jPze",
        "outputId": "510e63df-50db-4f78-a2f5-e25e9fe9c906"
      },
      "outputs": [
        {
          "name": "stdout",
          "output_type": "stream",
          "text": [
            "[[ 1  5  9]\n",
            " [ 2  6 10]\n",
            " [ 3  7 11]\n",
            " [ 4  8 12]]\n"
          ]
        }
      ],
      "source": [
        "''''\n",
        "10. How to transpose the following array in NumPy?\n",
        "[[1, 2, 3, 4]\n",
        "[5, 6, 7, 8],\n",
        "[9, 10, 11, 12]]\n",
        "'''\n",
        "\n",
        "import numpy as np\n",
        "\n",
        "# Define the array\n",
        "array = np.array([[1, 2, 3, 4],\n",
        "                  [5, 6, 7, 8],\n",
        "                  [9, 10, 11, 12]])\n",
        "\n",
        "# Transpose the array\n",
        "array_transposed = array.T\n",
        "\n",
        "print(array_transposed)\n"
      ]
    },
    {
      "cell_type": "code",
      "execution_count": 16,
      "metadata": {
        "colab": {
          "base_uri": "https://localhost:8080/",
          "height": 211
        },
        "id": "Rw8AAmwDjoD0",
        "outputId": "ceca5a77-17ce-4c5a-e749-8c3553afc694"
      },
      "outputs": [
        {
          "ename": "ValueError",
          "evalue": "shapes (3,4) and (3,4) not aligned: 4 (dim 1) != 3 (dim 0)",
          "output_type": "error",
          "traceback": [
            "\u001b[0;31m---------------------------------------------------------------------------\u001b[0m",
            "\u001b[0;31mValueError\u001b[0m                                Traceback (most recent call last)",
            "\u001b[0;32m<ipython-input-16-f7e2959ef265>\u001b[0m in \u001b[0;36m<cell line: 23>\u001b[0;34m()\u001b[0m\n\u001b[1;32m     21\u001b[0m \u001b[0;34m\u001b[0m\u001b[0m\n\u001b[1;32m     22\u001b[0m \u001b[0;31m# Matrix multiplication\u001b[0m\u001b[0;34m\u001b[0m\u001b[0;34m\u001b[0m\u001b[0m\n\u001b[0;32m---> 23\u001b[0;31m \u001b[0mmatrix_product\u001b[0m \u001b[0;34m=\u001b[0m \u001b[0mnp\u001b[0m\u001b[0;34m.\u001b[0m\u001b[0mdot\u001b[0m\u001b[0;34m(\u001b[0m\u001b[0mA2\u001b[0m\u001b[0;34m,\u001b[0m \u001b[0mB2\u001b[0m\u001b[0;34m)\u001b[0m\u001b[0;34m\u001b[0m\u001b[0;34m\u001b[0m\u001b[0m\n\u001b[0m\u001b[1;32m     24\u001b[0m \u001b[0;34m\u001b[0m\u001b[0m\n\u001b[1;32m     25\u001b[0m \u001b[0;31m# Addition of both matrices\u001b[0m\u001b[0;34m\u001b[0m\u001b[0;34m\u001b[0m\u001b[0m\n",
            "\u001b[0;31mValueError\u001b[0m: shapes (3,4) and (3,4) not aligned: 4 (dim 1) != 3 (dim 0)"
          ]
        }
      ],
      "source": [
        "'''\n",
        "11. Consi^er the following matrix:\n",
        "Matrix A2 [[1, 2, 3, 4] [5, 6, 7, 8],[9, 10, 11, 12]]\n",
        "Matrix B2 [[1, 2, 3, 4] [5, 6, 7, 8],[9, 10, 11, 12]]\n",
        "Perform the following operation using Python1\n",
        ",+ I(dex wiLe multiplicatio'\n",
        "]+ Matix multiplicatio'\n",
        "+ Add both the maticK\n",
        "-+ Subtact matix B om\n",
        "+ Diide Matix B by A\n",
        "     '''\n",
        "\n",
        "import numpy as np\n",
        "\n",
        "# Define the matrices\n",
        "A2 = np.array([[1, 2, 3, 4], [5, 6, 7, 8], [9, 10, 11, 12]])\n",
        "B2 = np.array([[1, 2, 3, 4], [5, 6, 7, 8], [9, 10, 11, 12]])\n",
        "\n",
        "# Element-wise multiplication\n",
        "elementwise_product = np.multiply(A2, B2)\n",
        "\n",
        "# Matrix multiplication\n",
        "matrix_product = np.dot(A2, B2)\n",
        "\n",
        "# Addition of both matrices\n",
        "sum_of_matrices = np.add(A2, B2)\n",
        "\n",
        "# Subtraction of matrix B from A\n",
        "difference = np.subtract(A2, B2)\n",
        "\n",
        "# Division of matrix B by A\n",
        "division = np.divide(B2, A2)\n",
        "\n",
        "print(\"Element-wise multiplication:\\n\", elementwise_product)\n",
        "print(\"Matrix multiplication:\\n\", matrix_product)\n",
        "print(\"Addition of both matrices:\\n\", sum_of_matrices)\n",
        "print(\"Subtraction of matrix B from A:\\n\", difference)\n",
        "print(\"Division of matrix B by A:\\n\", division)\n"
      ]
    },
    {
      "cell_type": "code",
      "execution_count": 18,
      "metadata": {
        "colab": {
          "base_uri": "https://localhost:8080/"
        },
        "id": "foC70smrj92v",
        "outputId": "24080e80-36b2-4b86-a199-00d71fac6ffc"
      },
      "outputs": [
        {
          "name": "stdout",
          "output_type": "stream",
          "text": [
            "Element-wise multiplication:\n",
            " [[  1   4   9  16]\n",
            " [ 25  36  49  64]\n",
            " [ 81 100 121 144]]\n",
            "Matrix multiplication:\n",
            " [[107 122 137 152]\n",
            " [122 140 158 176]\n",
            " [137 158 179 200]\n",
            " [152 176 200 224]]\n",
            "Addition of both matrices:\n",
            " [[ 2  4  6  8]\n",
            " [10 12 14 16]\n",
            " [18 20 22 24]]\n",
            "Subtraction of matrix B from A:\n",
            " [[0 0 0 0]\n",
            " [0 0 0 0]\n",
            " [0 0 0 0]]\n",
            "Division of matrix B by A:\n",
            " [[1. 1. 1. 1.]\n",
            " [1. 1. 1. 1.]\n",
            " [1. 1. 1. 1.]]\n"
          ]
        }
      ],
      "source": [
        "'''\n",
        "11. Consi^er the following matrix:\n",
        "Matrix A2 [[1, 2, 3, 4] [5, 6, 7, 8],[9, 10, 11, 12]]\n",
        "Matrix B2 [[1, 2, 3, 4] [5, 6, 7, 8],[9, 10, 11, 12]]\n",
        "Perform the following operation using Python1\n",
        ",+ I(dex wiLe multiplicatio'\n",
        "]+ Matix multiplicatio'\n",
        "+ Add both the maticK\n",
        "-+ Subtact matix B om\n",
        "+ Diide Matix B by A\n",
        "     '''\n",
        "\n",
        "import numpy as np\n",
        "\n",
        "# Define the matrices\n",
        "A2 = np.array([[1, 2, 3, 4], [5, 6, 7, 8], [9, 10, 11, 12]])\n",
        "B2 = np.array([[1, 2, 3, 4], [5, 6, 7, 8], [9, 10, 11, 12]])\n",
        "\n",
        "# Element-wise multiplication\n",
        "elementwise_product = np.multiply(A2, B2)\n",
        "\n",
        "# Matrix multiplication\n",
        "matrix_product = np.dot(A2.T, B2)\n",
        "\n",
        "# Addition of both matrices\n",
        "sum_of_matrices = np.add(A2, B2)\n",
        "\n",
        "# Subtraction of matrix B from A\n",
        "difference = np.subtract(A2, B2)\n",
        "\n",
        "# Division of matrix B by A\n",
        "division = np.divide(B2, A2)\n",
        "\n",
        "print(\"Element-wise multiplication:\\n\", elementwise_product)\n",
        "print(\"Matrix multiplication:\\n\", matrix_product)\n",
        "print(\"Addition of both matrices:\\n\", sum_of_matrices)\n",
        "print(\"Subtraction of matrix B from A:\\n\", difference)\n",
        "print(\"Division of matrix B by A:\\n\", division)"
      ]
    },
    {
      "cell_type": "code",
      "execution_count": 20,
      "metadata": {
        "colab": {
          "base_uri": "https://localhost:8080/",
          "height": 36
        },
        "id": "7_Cr-zcrlS-i",
        "outputId": "94ab8627-9b88-4473-b330-59d568ba6e2e"
      },
      "outputs": [
        {
          "data": {
            "application/vnd.google.colaboratory.intrinsic+json": {
              "type": "string"
            },
            "text/plain": [
              "'\\nIn NumPy, you can use the byteswap() method to swap the byte order of an array\\nThis method toggles between low-endian and big-endian data representation\\n'"
            ]
          },
          "execution_count": 20,
          "metadata": {},
          "output_type": "execute_result"
        }
      ],
      "source": [
        "#12. Which function in Numpy can be use^ to swap the byte or^er of an array?\n",
        "'''\n",
        "In NumPy, you can use the byteswap() method to swap the byte order of an array\n",
        "This method toggles between low-endian and big-endian data representation\n",
        "'''"
      ]
    },
    {
      "cell_type": "code",
      "execution_count": 21,
      "metadata": {
        "colab": {
          "base_uri": "https://localhost:8080/",
          "height": 53
        },
        "id": "nDZg3kKamFur",
        "outputId": "36216260-817d-4525-a0fa-9e68e3e5295c"
      },
      "outputs": [
        {
          "data": {
            "application/vnd.google.colaboratory.intrinsic+json": {
              "type": "string"
            },
            "text/plain": [
              "'\\nThe np.linalg.inv function in NumPy is used to compute the (multiplicative) inverse of a square matrix. The multiplicative inverse of a matrix A is a matrix A_inv such that when A is \\nmultiplied by A_inv, the result is the identity matrix.\\n'"
            ]
          },
          "execution_count": 21,
          "metadata": {},
          "output_type": "execute_result"
        }
      ],
      "source": [
        "#13. What is the significance of the np.linalg.inv function?\n",
        "'''\n",
        "The np.linalg.inv function in NumPy is used to compute the (multiplicative) inverse of a square matrix. The multiplicative inverse of a matrix A is a matrix A_inv such that when A is\n",
        "multiplied by A_inv, the result is the identity matrix.\n",
        "'''"
      ]
    },
    {
      "cell_type": "code",
      "execution_count": 22,
      "metadata": {
        "colab": {
          "base_uri": "https://localhost:8080/",
          "height": 70
        },
        "id": "iT-lPfLlm9MR",
        "outputId": "f98cb1e3-c9fe-4f8e-8e3d-696d3f39f59d"
      },
      "outputs": [
        {
          "data": {
            "application/vnd.google.colaboratory.intrinsic+json": {
              "type": "string"
            },
            "text/plain": [
              "'\\nThe np.reshape function in NumPy is used to change the shape of an array without modifying its data. The new shape should be compatible with the original shape. If an integer is\\n passed as the new shape, then the result will be a 1-D array of that length. One shape dimension can be -1, in which case, the value is inferred from the length of the array and \\n remaining dimensions\\n '"
            ]
          },
          "execution_count": 22,
          "metadata": {},
          "output_type": "execute_result"
        }
      ],
      "source": [
        "#14. What ^oes the np.reshape function ^o, an^ how is it use^?\n",
        "'''\n",
        "The np.reshape function in NumPy is used to change the shape of an array without modifying its data. The new shape should be compatible with the original shape. If an integer is\n",
        " passed as the new shape, then the result will be a 1-D array of that length. One shape dimension can be -1, in which case, the value is inferred from the length of the array and\n",
        " remaining dimensions\n",
        " '''"
      ]
    },
    {
      "cell_type": "code",
      "execution_count": 23,
      "metadata": {
        "colab": {
          "base_uri": "https://localhost:8080/",
          "height": 88
        },
        "id": "p-Iyzn5VnbOj",
        "outputId": "d55e38ce-cc7b-4d9a-c70b-ddaf84d71205"
      },
      "outputs": [
        {
          "data": {
            "application/vnd.google.colaboratory.intrinsic+json": {
              "type": "string"
            },
            "text/plain": [
              "'\\nBroadcasting in NumPy is a set of rules that allows arithmetic operations to be performed between arrays of different shapes. The term broadcasting describes how NumPy treats \\narrays with different shapes during arithmetic operations. Subject to certain constraints, the smaller array is “broadcast” across the larger array so that they have compatible\\nshapes.\\n\\nBroadcasting provides a means of vectorizing array operations so that looping occurs in C instead of Python. It does this without making needless copies of data and usually leads to\\n efficient algorithm implementations.\\n'"
            ]
          },
          "execution_count": 23,
          "metadata": {},
          "output_type": "execute_result"
        }
      ],
      "source": [
        "#15. What is broa^casting in Numpy?\n",
        "'''\n",
        "Broadcasting in NumPy is a set of rules that allows arithmetic operations to be performed between arrays of different shapes. The term broadcasting describes how NumPy treats\n",
        "arrays with different shapes during arithmetic operations. Subject to certain constraints, the smaller array is “broadcast” across the larger array so that they have compatible\n",
        "shapes.\n",
        "\n",
        "Broadcasting provides a means of vectorizing array operations so that looping occurs in C instead of Python. It does this without making needless copies of data and usually leads to\n",
        " efficient algorithm implementations.\n",
        "'''"
      ]
    },
    {
      "cell_type": "code",
      "execution_count": null,
      "metadata": {
        "id": "XpZZ0YwFoHTb"
      },
      "outputs": [],
      "source": []
    }
  ],
  "metadata": {
    "colab": {
      "provenance": []
    },
    "kernelspec": {
      "display_name": "Python 3",
      "name": "python3"
    },
    "language_info": {
      "name": "python"
    }
  },
  "nbformat": 4,
  "nbformat_minor": 0
}
